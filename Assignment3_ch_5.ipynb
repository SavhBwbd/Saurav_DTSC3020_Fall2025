{
  "nbformat": 4,
  "nbformat_minor": 0,
  "metadata": {
    "colab": {
      "provenance": [],
      "authorship_tag": "ABX9TyNDqEv/ruWRL2t+EuwgzoAu",
      "include_colab_link": true
    },
    "kernelspec": {
      "name": "python3",
      "display_name": "Python 3"
    },
    "language_info": {
      "name": "python"
    }
  },
  "cells": [
    {
      "cell_type": "markdown",
      "metadata": {
        "id": "view-in-github",
        "colab_type": "text"
      },
      "source": [
        "<a href=\"https://colab.research.google.com/github/SavhBwbd/Saurav_DTSC3020_Fall2025/blob/main/Assignment3_ch_5.ipynb\" target=\"_parent\"><img src=\"https://colab.research.google.com/assets/colab-badge.svg\" alt=\"Open In Colab\"/></a>"
      ]
    },
    {
      "cell_type": "code",
      "execution_count": null,
      "metadata": {
        "id": "V2cluSHDBu9p"
      },
      "outputs": [],
      "source": [
        "## Question 1 – Movie Ticket System\n",
        "Write a Python code that checks the price of a movie ticket.\n",
        "If the age is between 0 and 11 it is Child, if between 12 and 17 it is Teen, and if 18 or older it is Adult.\n",
        "Print the category and the ticket price (you choose the price).\n",
        "Run the program with age = 16."
      ]
    },
    {
      "cell_type": "code",
      "source": [
        "# write your answer here\n",
        "age = 16\n",
        "if age > 0 and age <= 11:\n",
        "    category = \"Child\"\n",
        "    price = 10.00\n",
        "elif age>=12 and age<=17:\n",
        "    category = \"teen\"\n",
        "    price = 12.00\n",
        "elif age>=18:\n",
        "    category = \"adult\"\n",
        "    price = 14.00\n",
        "else:\n",
        "    category = \"Invalid age\"\n",
        "    price = 0.00\n",
        "print (f\"Category : {category}\")\n",
        "print (f\"Ticket price : ${price:.2f}\")"
      ],
      "metadata": {
        "colab": {
          "base_uri": "https://localhost:8080/"
        },
        "id": "e_z85A9gI_ig",
        "outputId": "c1f5ebe5-cbbe-48ac-c479-34a6de34eb8e"
      },
      "execution_count": 1,
      "outputs": [
        {
          "output_type": "stream",
          "name": "stdout",
          "text": [
            "Category : teen\n",
            "Ticket price : $12.00\n"
          ]
        }
      ]
    },
    {
      "cell_type": "code",
      "source": [
        "## Question 2 – Online Store Discount\n",
        "Write a Python code that applies a discount based on the shopping cart total.\n",
        "If the total is less than 50 dollars there is no discount, if the total is between 50 and 99 dollars there is a 10 percent discount, and if the total is 100 dollars or more there is a 20 percent discount.\n",
        "Print the original total, the discount, and the final price.\n",
        "Run the program with cart_total = 85."
      ],
      "metadata": {
        "id": "umu3iJTaJIbR"
      },
      "execution_count": null,
      "outputs": []
    },
    {
      "cell_type": "code",
      "source": [
        "# write your answer here\n",
        "car_total = 85\n",
        "if car_total < 50:\n",
        "  discount_rate = 0.00\n",
        "elif car_total >=50 and car_total <=99:\n",
        "  discount_rate = 0.10\n",
        "elif car_total >=100:\n",
        "  discount_rate = 0.20\n",
        "discount = car_total * discount_rate\n",
        "final_price = car_total - discount\n",
        "print (f\"Original total : ${car_total:.2f}\")\n",
        "print (f\"Discount : ${discount:.2f}\")\n",
        "print (f\"Final price : ${final_price:.2f}\")"
      ],
      "metadata": {
        "colab": {
          "base_uri": "https://localhost:8080/"
        },
        "id": "tIkUM_jiJOI2",
        "outputId": "2244b267-6727-4f7b-d02d-ca82bafcbca4"
      },
      "execution_count": 3,
      "outputs": [
        {
          "output_type": "stream",
          "name": "stdout",
          "text": [
            "Original total : $85.00\n",
            "Discount : $8.50\n",
            "Final price : $76.50\n"
          ]
        }
      ]
    },
    {
      "cell_type": "code",
      "source": [
        "## Question 3 – Exam Grading\n",
        "Write a Python code that gives a letter grade for a score.\n",
        "If the score is between 90 and 100 the grade is A, if between 80 and 89 the grade is B, if between 70 and 79 the grade is C, if between 60 and 69 the grade is D, and if below 60 the grade is F.\n",
        "Print the grade and a short message.\n",
        "Run the program with score = 73."
      ],
      "metadata": {
        "id": "MQlGk5Q4JRCc"
      },
      "execution_count": 5,
      "outputs": []
    },
    {
      "cell_type": "code",
      "source": [
        "score = 73\n",
        "if score >=90 and score <=100:\n",
        "  grade = \"A\"\n",
        "  message = \"Excellent work!\"\n",
        "elif score >=80 and score <=89:\n",
        "  grade = \"B\"\n",
        "  message = \"Good job!\"\n",
        "elif score >=70 and score <=79:\n",
        "  grade = \"C\"\n",
        "  message = \"Study harder\"\n",
        "elif score >=60 and score <=69:\n",
        "  grade = \"D\"\n",
        "  message = \"You can do better\"\n",
        "elif score <60:\n",
        "  grade = \"F\"\n",
        "  message = \"Keep trying!\"\n",
        "else:\n",
        "  grade = \"Invalid score\"\n",
        "  message = \"Invalid score\"\n",
        "print (f\"Grade : {grade}\")\n",
        "print (f\"Message : {message}\")"
      ],
      "metadata": {
        "colab": {
          "base_uri": "https://localhost:8080/"
        },
        "id": "yAKE7VRGL3KC",
        "outputId": "97406560-0e89-4487-8b4e-1eb9d66b04b8"
      },
      "execution_count": 6,
      "outputs": [
        {
          "output_type": "stream",
          "name": "stdout",
          "text": [
            "Grade : C\n",
            "Message : Study harder\n"
          ]
        }
      ]
    },
    {
      "cell_type": "code",
      "source": [
        "## Question 4 – Parking Fee\n",
        "Write a Python code that calculates parking fees.\n",
        "If the car is parked for 0 to 2 hours the parking is free, if the car is parked for 3 to 5 hours the fee is 3 dollars per hour, and if the car is parked for more than 5 hours the fee is 3 dollars per hour for the first three hours after free and then 5 dollars per hour for the rest.\n",
        "Print the number of hours and the total fee.\n",
        "Run the program with hours = 6."
      ],
      "metadata": {
        "id": "qlQjYCyVNN-3"
      },
      "execution_count": null,
      "outputs": []
    },
    {
      "cell_type": "code",
      "source": [
        "hours = 6\n",
        "if hours >=0 and hours <=2:\n",
        "  fee = 0\n",
        "elif hours >=3 and hours <=5:\n",
        "  fee = (hours * 3)\n",
        "elif hours > 5:\n",
        "  fee = (3 * 3) + ((hours - 3) * 5)\n",
        "else:\n",
        "  fee = None\n",
        "print (f\"Number of hours : {hours}\")\n",
        "print (f\"Total fee : ${fee:.2f}\")"
      ],
      "metadata": {
        "colab": {
          "base_uri": "https://localhost:8080/"
        },
        "id": "kVVSTcgaNQ3g",
        "outputId": "4ef797d1-a118-47bd-966a-bfc0fb8a57e2"
      },
      "execution_count": 7,
      "outputs": [
        {
          "output_type": "stream",
          "name": "stdout",
          "text": [
            "Number of hours : 6\n",
            "Total fee : $24.00\n"
          ]
        }
      ]
    },
    {
      "cell_type": "code",
      "source": [
        "## Question 5 – Cafeteria Menu\n",
        "Write a Python code that creates a list with three food items.\n",
        "Check if an order is in the list.\n",
        "If the item is in the list print a confirmation, and if the item is not in the list print a polite message.\n",
        "Run the program with menu = ['pizza','salad','sandwich'] and order = 'salad'."
      ],
      "metadata": {
        "id": "icTj3HgmQWAG"
      },
      "execution_count": null,
      "outputs": []
    },
    {
      "cell_type": "code",
      "source": [
        "menu = ['pizza','salad','sandwich']\n",
        "order = 'salad'\n",
        "if order in menu:\n",
        "  print(f\"Your order for {order} is confirmed. Enjoy your meal!\")\n",
        "else:\n",
        "  print(f\"Sorry! {order} is not available in the menu. Please order something that is available in the menu.\")\n"
      ],
      "metadata": {
        "colab": {
          "base_uri": "https://localhost:8080/"
        },
        "id": "WSHP-1-bQY8I",
        "outputId": "e1e485fa-d212-4d08-ebe0-5cf98fd607f6"
      },
      "execution_count": 8,
      "outputs": [
        {
          "output_type": "stream",
          "name": "stdout",
          "text": [
            "Your order for salad is confirmed. Enjoy your meal!\n"
          ]
        }
      ]
    },
    {
      "cell_type": "code",
      "source": [
        "## Question 6 – Job Application Filter\n",
        "Write a Python code that checks if a person is eligible for a job.\n",
        "If the person is older than 22 and has more than 2 years of experience print Accepted.\n",
        "Otherwise print Not Accepted.\n",
        "Run the program with age = 23 and experience = 1."
      ],
      "metadata": {
        "id": "MQKfVTVxTF41"
      },
      "execution_count": null,
      "outputs": []
    },
    {
      "cell_type": "code",
      "source": [
        "age = 23\n",
        "experience = 1\n",
        "if age > 22 and experience > 2:\n",
        "  print(\"Accepted\")\n",
        "else:\n",
        "  print(\"Not Accepted\")"
      ],
      "metadata": {
        "colab": {
          "base_uri": "https://localhost:8080/"
        },
        "id": "WOATRa97TIWI",
        "outputId": "7c1aa11c-30c6-464c-9a1f-8e2281a65d71"
      },
      "execution_count": 9,
      "outputs": [
        {
          "output_type": "stream",
          "name": "stdout",
          "text": [
            "Not Accepted\n"
          ]
        }
      ]
    },
    {
      "cell_type": "code",
      "source": [
        "## Question 7 – Clothing Advice\n",
        "Write a Python code that suggests clothing based on the temperature.\n",
        "If the temperature is below 10 print Coat and gloves, if the temperature is between 10 and 19 print Jacket, and if the temperature is 20 or more print T-shirt.\n",
        "Run the program with temperature = 15."
      ],
      "metadata": {
        "id": "AuXMiuJuTaDu"
      },
      "execution_count": null,
      "outputs": []
    },
    {
      "cell_type": "code",
      "source": [
        "temperature = 15\n",
        "if temperature <10:\n",
        "  print(\"Coat and gloves\")\n",
        "elif temperature >=10 and temperature <=19:\n",
        "  print(\"Jacket\")\n",
        "elif temperature >=20:\n",
        "  print(\"T-shirt\")"
      ],
      "metadata": {
        "colab": {
          "base_uri": "https://localhost:8080/"
        },
        "id": "VuG4-IvhTcNv",
        "outputId": "144040d1-16f1-4474-e752-b4cc783410e9"
      },
      "execution_count": 10,
      "outputs": [
        {
          "output_type": "stream",
          "name": "stdout",
          "text": [
            "Jacket\n"
          ]
        }
      ]
    },
    {
      "cell_type": "code",
      "source": [
        "## Question 8 – Loan Eligibility\n",
        "Write a Python code that checks loan eligibility.\n",
        "If the salary is at least 3000 and the credit score is at least 650 print Loan Approved, otherwise print Loan Denied.\n",
        "Run the program with salary = 3500 and credit_score = 640."
      ],
      "metadata": {
        "id": "UMmLcUxuTymz"
      },
      "execution_count": null,
      "outputs": []
    },
    {
      "cell_type": "code",
      "source": [
        "salary = 3500\n",
        "credit_score = 640\n",
        "if salary >=3000 and credit_score >=650:\n",
        "  print (\"Loan Approved!\")\n",
        "else:\n",
        "  print(\"Loan Denied!\")"
      ],
      "metadata": {
        "colab": {
          "base_uri": "https://localhost:8080/"
        },
        "id": "BAI1TgqkT1CB",
        "outputId": "0fee60c8-2b9c-4701-f43e-d269f6e5918b"
      },
      "execution_count": 11,
      "outputs": [
        {
          "output_type": "stream",
          "name": "stdout",
          "text": [
            "Loan Denied!\n"
          ]
        }
      ]
    },
    {
      "cell_type": "code",
      "source": [
        "## Question 9 – Password Strength\n",
        "Write a Python code that checks if a password is strong, medium, or weak based on its length.\n",
        "If the password has fewer than 6 characters it is Weak, if it has 6 to 10 characters it is Medium, and if it has more than 10 characters it is Strong.\n",
        "Print the strength.\n",
        "Run the program with password = 'hello123'."
      ],
      "metadata": {
        "id": "WDoqNH-XUdwQ"
      },
      "execution_count": null,
      "outputs": []
    },
    {
      "cell_type": "code",
      "source": [
        "password = 'hello123'\n",
        "length = len(password)\n",
        "if length < 6:\n",
        "  strength = \"Weak\"\n",
        "elif length >=6 and length <=10:\n",
        "  strength = \"Medium\"\n",
        "elif length >10:\n",
        "  strength = \"Strong\"\n",
        "print (f\"Password strength : {strength}\")"
      ],
      "metadata": {
        "colab": {
          "base_uri": "https://localhost:8080/"
        },
        "id": "TUm_sTlBU5ev",
        "outputId": "0389070c-87c8-40b3-e570-801c975a7ed8"
      },
      "execution_count": 12,
      "outputs": [
        {
          "output_type": "stream",
          "name": "stdout",
          "text": [
            "Password strength : Medium\n"
          ]
        }
      ]
    },
    {
      "cell_type": "code",
      "source": [
        "## Question 10 – Guest List Checker\n",
        "Write a Python code that creates a list with three invited guests.\n",
        "Define a variable for a guest name.\n",
        "Check if the guest name is in the list.\n",
        "If the guest is in the list print Welcome, and if the guest is not in the list print Not on the list.\n",
        "Run the program with guest = 'Sara'."
      ],
      "metadata": {
        "id": "zPiiNtuAV5v2"
      },
      "execution_count": null,
      "outputs": []
    },
    {
      "cell_type": "code",
      "source": [
        "guests = ['Savh','Javed','Ali','Sara']\n",
        "guest = \"Sara\"\n",
        "if guest in guests:\n",
        "  print(\"Welcome!\")\n",
        "else:\n",
        "  print(\"Not on the list\")\n"
      ],
      "metadata": {
        "colab": {
          "base_uri": "https://localhost:8080/"
        },
        "id": "cwW14AHDYFKr",
        "outputId": "7f55d99c-cccd-428b-e2c2-96c0dfae7976"
      },
      "execution_count": 13,
      "outputs": [
        {
          "output_type": "stream",
          "name": "stdout",
          "text": [
            "Welcome!\n"
          ]
        }
      ]
    }
  ]
}