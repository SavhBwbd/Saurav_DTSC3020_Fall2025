{
  "nbformat": 4,
  "nbformat_minor": 0,
  "metadata": {
    "colab": {
      "provenance": [],
      "authorship_tag": "ABX9TyMKfoN8cNxHF1yYSt93y1QT",
      "include_colab_link": true
    },
    "kernelspec": {
      "name": "python3",
      "display_name": "Python 3"
    },
    "language_info": {
      "name": "python"
    }
  },
  "cells": [
    {
      "cell_type": "markdown",
      "metadata": {
        "id": "view-in-github",
        "colab_type": "text"
      },
      "source": [
        "<a href=\"https://colab.research.google.com/github/SavhBwbd/Saurav_DTSC3020_Fall2025/blob/main/Assignment_2.ipynb\" target=\"_parent\"><img src=\"https://colab.research.google.com/assets/colab-badge.svg\" alt=\"Open In Colab\"/></a>"
      ]
    },
    {
      "cell_type": "code",
      "execution_count": 4,
      "metadata": {
        "colab": {
          "base_uri": "https://localhost:8080/"
        },
        "id": "7FqTQL-uXHHV",
        "outputId": "01cf29a4-8f87-4280-af78-9f67cfddbfbf"
      },
      "outputs": [
        {
          "output_type": "stream",
          "name": "stdout",
          "text": [
            "Fruits list: ['kiwi', 'banana', 'avocado']\n",
            "Each of them separately:\n",
            "kiwi\n",
            "banana\n",
            "avocado\n"
          ]
        }
      ],
      "source": [
        "#Create a list with 3 fruits (for example: apple, banana, orange).\n",
        "\n",
        "fruits=[\"kiwi\",\"banana\",\"avocado\"]\n",
        "print(\"Fruits list:\", fruits)\n",
        "print(\"Each of them separately:\")\n",
        "for fruit in fruits:\n",
        "  print(fruit)"
      ]
    },
    {
      "cell_type": "code",
      "source": [
        "#Create a list with 4 names.\n",
        "#• Change the first name to a different one.\n",
        "#• Print the new list.\n",
        "\n",
        "names=[\"Savh\",\"Jilo\",\"Ali\",\"Mohammad\"]\n",
        "names[0]=\"Nishan\"\n",
        "print(\"New names list: \", names)"
      ],
      "metadata": {
        "colab": {
          "base_uri": "https://localhost:8080/"
        },
        "id": "foK8VfuMX4KJ",
        "outputId": "5af1324e-db98-4011-d290-cdd85fa4c283"
      },
      "execution_count": 5,
      "outputs": [
        {
          "output_type": "stream",
          "name": "stdout",
          "text": [
            "New names list:  ['Nishan', 'Jilo', 'Ali', 'Mohammad']\n"
          ]
        }
      ]
    },
    {
      "cell_type": "code",
      "source": [
        "#Create a list with 5 vehicles (for example: car, bus, bike).\n",
        "#• Add one more vehicle to the end of the list.\n",
        "#• Print the list.\n",
        "\n",
        "vehicles=[\"car\",\"van\",\"bus\",\"bike\",\"train\"]\n",
        "vehicles.append(\"scooter\")\n",
        "print(\"Vehicles list: \",vehicles)"
      ],
      "metadata": {
        "colab": {
          "base_uri": "https://localhost:8080/"
        },
        "id": "oUKbn4aWYOiX",
        "outputId": "25378d21-3f0e-460d-d0a1-46f53d7e137d"
      },
      "execution_count": 6,
      "outputs": [
        {
          "output_type": "stream",
          "name": "stdout",
          "text": [
            "Vehicles list:  ['car', 'van', 'bus', 'bike', 'train', 'scooter']\n"
          ]
        }
      ]
    },
    {
      "cell_type": "code",
      "source": [
        "#Create a list with 6 foods.\n",
        "#• Remove one food from the list.\n",
        "#• Print the new list.\n",
        "\n",
        "foods=[\"momo\",\"pizza\",\"steak\",\"salad\",\"sandwich\",\"pasta\"]\n",
        "foods.remove(\"pizza\")\n",
        "print(\"Foods list after removing: \", foods)"
      ],
      "metadata": {
        "colab": {
          "base_uri": "https://localhost:8080/"
        },
        "id": "_IO4Z5wGYsOF",
        "outputId": "4bce573d-7f4d-4c0a-8a2d-4607f996a12d"
      },
      "execution_count": 7,
      "outputs": [
        {
          "output_type": "stream",
          "name": "stdout",
          "text": [
            "Foods list after removing:  ['momo', 'steak', 'salad', 'sandwich', 'pasta']\n"
          ]
        }
      ]
    },
    {
      "cell_type": "code",
      "source": [
        "#Create a list with 4 cities.\n",
        "#• Sort the list in alphabetical order.\n",
        "#• Reverse the list.\n",
        "\n",
        "cities=[\"Paris\",\"Rome\",\"London\",\"Tokyo\"]\n",
        "cities.sort()\n",
        "print(\"Sorted Cities: \",cities)\n",
        "cities.reverse()\n",
        "print(\"Reversed cities: \", cities)"
      ],
      "metadata": {
        "colab": {
          "base_uri": "https://localhost:8080/"
        },
        "id": "_--yH---ZyAa",
        "outputId": "a329d490-bb01-420f-ac5b-6325fb09609c"
      },
      "execution_count": 9,
      "outputs": [
        {
          "output_type": "stream",
          "name": "stdout",
          "text": [
            "Sorted Cities:  ['London', 'Paris', 'Rome', 'Tokyo']\n",
            "Reversed cities:  ['Tokyo', 'Rome', 'Paris', 'London']\n"
          ]
        }
      ]
    },
    {
      "cell_type": "code",
      "source": [
        "#• Create a list with 3 animals.\n",
        "#• Use a for loop to print each animal.\n",
        "\n",
        "animals=[\"koala\",\"jaguar\",\"dog\"]\n",
        "for animal in animals:\n",
        "  print(animal)"
      ],
      "metadata": {
        "colab": {
          "base_uri": "https://localhost:8080/"
        },
        "id": "Jo9SrQoVabvu",
        "outputId": "851104a0-d6ce-46c1-c492-465cf510ee73"
      },
      "execution_count": 10,
      "outputs": [
        {
          "output_type": "stream",
          "name": "stdout",
          "text": [
            "koala\n",
            "jaguar\n",
            "dog\n"
          ]
        }
      ]
    },
    {
      "cell_type": "code",
      "source": [
        "#• Create a list with numbers from 1 to 5.\n",
        "#• Use a for loop to print each number multiplied by 2.\n",
        "\n",
        "numbers=[2,4,5,1,6,8]\n",
        "print(\"Numbers multiplied by 2:\")\n",
        "for num in numbers:\n",
        "  print(num*2)"
      ],
      "metadata": {
        "colab": {
          "base_uri": "https://localhost:8080/"
        },
        "id": "LqWPYCAUa3vG",
        "outputId": "2c240800-ae23-4f1e-88bf-3cd14c81481c"
      },
      "execution_count": 12,
      "outputs": [
        {
          "output_type": "stream",
          "name": "stdout",
          "text": [
            "Numbers multiplied by 2:\n",
            "4\n",
            "8\n",
            "10\n",
            "2\n",
            "12\n",
            "16\n"
          ]
        }
      ]
    },
    {
      "cell_type": "code",
      "source": [
        "#Create a list with 6 friends.\n",
        "#• Print the first three friends.\n",
        "#• Print the last three friends.\n",
        "\n",
        "friends=[\"Savh\",\"Ali\",\"Jilo\",\"Mohammad\",\"Nishan\",\"Jose\"]\n",
        "print(\"First three friends: \", friends[0:3])\n",
        "print(\"Last three friends: \", friends[3:])"
      ],
      "metadata": {
        "colab": {
          "base_uri": "https://localhost:8080/"
        },
        "id": "HN49Ltp1bRKr",
        "outputId": "e7243b0e-c1b1-4eb3-85ef-2ad899f6e9ab"
      },
      "execution_count": 14,
      "outputs": [
        {
          "output_type": "stream",
          "name": "stdout",
          "text": [
            "First three friends:  ['Savh', 'Ali', 'Jilo']\n",
            "Last three friends:  ['Mohammad', 'Nishan', 'Jose']\n"
          ]
        }
      ]
    },
    {
      "cell_type": "code",
      "source": [
        "#Use range() to create a list with numbers from 1 to 10.\n",
        "#• Print the list.\n",
        "\n",
        "num_list=list(range(1,11))\n",
        "print(\"Numbers list: \",num_list)"
      ],
      "metadata": {
        "colab": {
          "base_uri": "https://localhost:8080/"
        },
        "id": "JI6hvAHecHxK",
        "outputId": "2f28a646-5dd1-4f3c-c4ee-aa0e08739e45"
      },
      "execution_count": 15,
      "outputs": [
        {
          "output_type": "stream",
          "name": "stdout",
          "text": [
            "Numbers list:  [1, 2, 3, 4, 5, 6, 7, 8, 9, 10]\n"
          ]
        }
      ]
    },
    {
      "cell_type": "code",
      "source": [
        "#• Use list comprehension to create a list with the squares of numbers from 1 to 5.\n",
        "#• Print the list.\n",
        "\n",
        "squares=[x**2 for x in range(1,6)]\n",
        "print(\"Squares of numbers: \",squares)"
      ],
      "metadata": {
        "colab": {
          "base_uri": "https://localhost:8080/"
        },
        "id": "QXODZCfhcZqM",
        "outputId": "f145059b-17da-4d6d-fefc-4e15b56fc348"
      },
      "execution_count": 16,
      "outputs": [
        {
          "output_type": "stream",
          "name": "stdout",
          "text": [
            "Squares of numbers:  [1, 4, 9, 16, 25]\n"
          ]
        }
      ]
    }
  ]
}