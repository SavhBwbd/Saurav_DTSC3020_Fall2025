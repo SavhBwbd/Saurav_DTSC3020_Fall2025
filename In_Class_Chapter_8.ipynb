{
  "nbformat": 4,
  "nbformat_minor": 0,
  "metadata": {
    "colab": {
      "provenance": [],
      "authorship_tag": "ABX9TyMhCN/+DvY80L/jOcgJwpEI",
      "include_colab_link": true
    },
    "kernelspec": {
      "name": "python3",
      "display_name": "Python 3"
    },
    "language_info": {
      "name": "python"
    }
  },
  "cells": [
    {
      "cell_type": "markdown",
      "metadata": {
        "id": "view-in-github",
        "colab_type": "text"
      },
      "source": [
        "<a href=\"https://colab.research.google.com/github/SavhBwbd/Saurav_DTSC3020_Fall2025/blob/main/In_Class_Chapter_8.ipynb\" target=\"_parent\"><img src=\"https://colab.research.google.com/assets/colab-badge.svg\" alt=\"Open In Colab\"/></a>"
      ]
    },
    {
      "cell_type": "code",
      "execution_count": 1,
      "metadata": {
        "id": "aPvzViy212di"
      },
      "outputs": [],
      "source": [
        "##Final Class Exercise - Saurav Bishwokarma"
      ]
    },
    {
      "cell_type": "code",
      "source": [
        "Write a Python function create_email(full_name) that builds a UNT email in the format\n",
        "firstname.lastname@my.unt.edu.\n",
        "\n",
        "Rules\n",
        "\n",
        " • Use the first and last word from full_name (case-insensitive).\n",
        "\n",
        " • Convert everything to lowercase.\n",
        "\n",
        " • If there is only one word, use it twice (e.g., \"ali\" → ali.ali@my.unt.edu).\n",
        "\n",
        " • Return the email string.\n",
        "\n",
        "\n",
        "Constraints\n",
        "\n",
        " • Use a function and return.\n",
        "\n",
        " • Do not use input() or external libraries.\n",
        "\n",
        "\n",
        " test your code with this list\n",
        " names = [\"Sara Amini\", \"Ali\", \"Mary Jane\", \"  John   Smith  \", \"LINA\", \"madonna\", \"sara   amini\"]"
      ],
      "metadata": {
        "id": "xB1X2rHO5rKU"
      },
      "execution_count": null,
      "outputs": []
    },
    {
      "cell_type": "code",
      "source": [
        "def create_email(full_name):\n",
        "\n",
        "    parts = full_name.strip().lower().split()\n",
        "\n",
        "    if len(parts) == 1:\n",
        "        first = last = parts[0]\n",
        "    else:\n",
        "        first = parts[0]\n",
        "        last = parts[-1]\n",
        "\n",
        "\n",
        "    email = f\"{first}.{last}@my.unt.edu\"\n",
        "    return email\n",
        "\n",
        "\n",
        "\n",
        "names = [\"Sara Amini\", \"Ali\", \"Mary Jane\", \"  John   Smith  \", \"LINA\", \"madonna\", \"sara   amini\"]\n",
        "\n",
        "for n in names:\n",
        "    print(create_email(n))\n"
      ],
      "metadata": {
        "colab": {
          "base_uri": "https://localhost:8080/"
        },
        "id": "hSKeMwCt5vf0",
        "outputId": "00ccce2a-c510-4016-efae-f8227387f05e"
      },
      "execution_count": 5,
      "outputs": [
        {
          "output_type": "stream",
          "name": "stdout",
          "text": [
            "sara.amini@my.unt.edu\n",
            "ali.ali@my.unt.edu\n",
            "mary.jane@my.unt.edu\n",
            "john.smith@my.unt.edu\n",
            "lina.lina@my.unt.edu\n",
            "madonna.madonna@my.unt.edu\n",
            "sara.amini@my.unt.edu\n"
          ]
        }
      ]
    }
  ]
}