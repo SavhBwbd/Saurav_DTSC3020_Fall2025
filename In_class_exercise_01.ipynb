{
  "nbformat": 4,
  "nbformat_minor": 0,
  "metadata": {
    "colab": {
      "provenance": [],
      "authorship_tag": "ABX9TyMQxdZa7NL8SYdPMxCqpmhT",
      "include_colab_link": true
    },
    "kernelspec": {
      "name": "python3",
      "display_name": "Python 3"
    },
    "language_info": {
      "name": "python"
    }
  },
  "cells": [
    {
      "cell_type": "markdown",
      "metadata": {
        "id": "view-in-github",
        "colab_type": "text"
      },
      "source": [
        "<a href=\"https://colab.research.google.com/github/SavhBwbd/Saurav_DTSC3020_Fall2025/blob/main/In_class_exercise_01.ipynb\" target=\"_parent\"><img src=\"https://colab.research.google.com/assets/colab-badge.svg\" alt=\"Open In Colab\"/></a>"
      ]
    },
    {
      "cell_type": "code",
      "execution_count": 8,
      "metadata": {
        "colab": {
          "base_uri": "https://localhost:8080/"
        },
        "id": "202W-gKLQogZ",
        "outputId": "62f8a017-aa8a-4ed4-a59e-2ec3b68526c0"
      },
      "outputs": [
        {
          "output_type": "stream",
          "name": "stdout",
          "text": [
            "Welcome to python Savh\n",
            "Hello the king is back in the game\n",
            "Savh\n"
          ]
        }
      ],
      "source": [
        "print(\"Welcome to python Savh\")\n",
        "print('Hello the king is back in the game')\n",
        "a=\"Savh\"\n",
        "print(a)\n",
        "\n"
      ]
    },
    {
      "cell_type": "code",
      "source": [
        "name=\"Savh\"\n",
        "print(\"Welcome to python,\",name)\n"
      ],
      "metadata": {
        "colab": {
          "base_uri": "https://localhost:8080/"
        },
        "id": "Gyh6fIFRTa6A",
        "outputId": "c04e196a-8f20-4bf5-96b5-0d2979e94bbd"
      },
      "execution_count": 15,
      "outputs": [
        {
          "output_type": "stream",
          "name": "stdout",
          "text": [
            "Welcome to python, Savh\n"
          ]
        }
      ]
    },
    {
      "cell_type": "code",
      "source": [
        "\n"
      ],
      "metadata": {
        "colab": {
          "base_uri": "https://localhost:8080/"
        },
        "id": "QMAyy8YfTnU_",
        "outputId": "bc41584e-5391-4040-e60e-888220b4bd3a"
      },
      "execution_count": 17,
      "outputs": [
        {
          "output_type": "stream",
          "name": "stdout",
          "text": [
            "My name is Savh and I am 22 years old\n"
          ]
        }
      ]
    }
  ]
}