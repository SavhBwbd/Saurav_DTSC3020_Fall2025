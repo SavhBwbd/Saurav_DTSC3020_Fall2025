{
  "nbformat": 4,
  "nbformat_minor": 0,
  "metadata": {
    "colab": {
      "provenance": [],
      "authorship_tag": "ABX9TyMN728JB2uaeMBzuvlgc3Mf",
      "include_colab_link": true
    },
    "kernelspec": {
      "name": "python3",
      "display_name": "Python 3"
    },
    "language_info": {
      "name": "python"
    }
  },
  "cells": [
    {
      "cell_type": "markdown",
      "metadata": {
        "id": "view-in-github",
        "colab_type": "text"
      },
      "source": [
        "<a href=\"https://colab.research.google.com/github/SavhBwbd/Saurav_DTSC3020_Fall2025/blob/main/In_class_exercise_Week_5.ipynb\" target=\"_parent\"><img src=\"https://colab.research.google.com/assets/colab-badge.svg\" alt=\"Open In Colab\"/></a>"
      ]
    },
    {
      "cell_type": "code",
      "source": [
        "# Write your answer here, upload this file to your gitHub repository and send me the link in Canvas messages.\n",
        "Walmart_cart=[\"Bread\",\"Avocados\",\"Chicken\",\"Bacon\",\"Rice\"]\n",
        "if \"Bread\" in Walmart_cart and \"Milk\" in Walmart_cart:\n",
        "    print(\"Free butter included\")\n",
        "elif \"Eggs\" in Walmart_cart or \"Rice\" in Walmart_cart:\n",
        "    print(\"Free spoon included\")\n",
        "else:\n",
        "      print(\"No free gift\")"
      ],
      "metadata": {
        "id": "Aooj4Z5bYf4z",
        "colab": {
          "base_uri": "https://localhost:8080/"
        },
        "outputId": "5ba0cbb5-6152-47be-9791-e25c9fe8d159"
      },
      "execution_count": 11,
      "outputs": [
        {
          "output_type": "stream",
          "name": "stdout",
          "text": [
            "Free spoon included\n"
          ]
        }
      ]
    },
    {
      "cell_type": "markdown",
      "source": [
        "# New Section"
      ],
      "metadata": {
        "id": "gf0bzaMSflKK"
      }
    }
  ]
}