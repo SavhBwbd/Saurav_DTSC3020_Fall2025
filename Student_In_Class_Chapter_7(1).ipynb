{
  "nbformat": 4,
  "nbformat_minor": 0,
  "metadata": {
    "colab": {
      "provenance": [],
      "authorship_tag": "ABX9TyPSELDntNENI9kVCf81aoXF",
      "include_colab_link": true
    },
    "kernelspec": {
      "name": "python3",
      "display_name": "Python 3"
    },
    "language_info": {
      "name": "python"
    }
  },
  "cells": [
    {
      "cell_type": "markdown",
      "metadata": {
        "id": "view-in-github",
        "colab_type": "text"
      },
      "source": [
        "<a href=\"https://colab.research.google.com/github/SavhBwbd/Saurav_DTSC3020_Fall2025/blob/main/Student_In_Class_Chapter_7(1).ipynb\" target=\"_parent\"><img src=\"https://colab.research.google.com/assets/colab-badge.svg\" alt=\"Open In Colab\"/></a>"
      ]
    },
    {
      "cell_type": "code",
      "execution_count": 1,
      "metadata": {
        "id": "YTvntdyQxay9"
      },
      "outputs": [],
      "source": [
        "#Write a Python program that simulates a self-checkout system.**\n",
        "Use this price list: prices: apple= 1 ,  bread= 2.5 ,  milk=5 ,  egg= 6\n",
        "\n",
        "Program requirements:\n",
        "\n",
        "The program should repeatedly ask the user to enter an item name or enter \"pay\".\n",
        "\n",
        "\n",
        "• Valid inputs are the names of the **items above ** or the word \"pay\".\n",
        "\n",
        "\n",
        "If the entered item exists in the price list:\n",
        "\n",
        "• Add its price to the running total.\n",
        "\n",
        "\n",
        "• Print the message: \"Added , running total: $\".\n",
        "\n",
        "\n",
        "If the entered item does not exist in the price list:\n",
        "\n",
        "• Print \"Item not found\".\n",
        "\n",
        "If the user types \"pay\":\n",
        "\n",
        "• Stop asking for input.\n",
        "\n",
        "Show the following three values:\n",
        "\n",
        "\n",
        "**Subtotal: the sum of all valid items entered.**\n",
        "\n",
        "**Tax: 8% of the subtotal. (0.08 * total)**\n",
        "\n",
        "**Final total: subtotal + tax.**\n",
        "\n",
        "\n",
        "Run your program with this purchase list. For example, for one person whose purchase is:apple, pizza, bread, pay *italicised text*"
      ]
    },
    {
      "cell_type": "code",
      "source": [
        "# Self-checkout system\n",
        "\n",
        "\n",
        "prices = {\n",
        "    \"apple\": 1.0,\n",
        "    \"bread\": 2.5,\n",
        "    \"milk\": 5.0,\n",
        "    \"egg\": 6.0\n",
        "}\n",
        "\n",
        "subtotal = 0.0\n",
        "while True:\n",
        "    item = input(\"Enter an item (apple, bread, milk, egg) or type 'pay' to finish: \").lower()\n",
        "\n",
        "    if item == \"pay\":\n",
        "        break\n",
        "    elif item in prices:\n",
        "        subtotal += prices[item]\n",
        "        print(f\"Added {item}, running total: ${subtotal:.2f}\")\n",
        "    else:\n",
        "        print(\"Item not found\")\n",
        "\n",
        "\n",
        "tax = subtotal * 0.08\n",
        "final_total = subtotal + tax\n",
        "\n",
        "print(\"\\nCheckout summary:\")\n",
        "print(f\"Subtotal: ${subtotal:.2f}\")\n",
        "print(f\"Tax (8%): ${tax:.2f}\")\n",
        "print(f\"Final total: ${final_total:.2f}\")\n"
      ],
      "metadata": {
        "colab": {
          "base_uri": "https://localhost:8080/"
        },
        "id": "nmMPkky9zkYD",
        "outputId": "e71658f7-0ff8-45fe-f41f-f288ad582d32"
      },
      "execution_count": 4,
      "outputs": [
        {
          "output_type": "stream",
          "name": "stdout",
          "text": [
            "Enter an item (apple, bread, milk, egg) or type 'pay' to finish: apple\n",
            "Added apple, running total: $1.00\n",
            "Enter an item (apple, bread, milk, egg) or type 'pay' to finish: egg\n",
            "Added egg, running total: $7.00\n",
            "Enter an item (apple, bread, milk, egg) or type 'pay' to finish: bread\n",
            "Added bread, running total: $9.50\n",
            "Enter an item (apple, bread, milk, egg) or type 'pay' to finish: avocado\n",
            "Item not found\n",
            "Enter an item (apple, bread, milk, egg) or type 'pay' to finish: chicken\n",
            "Item not found\n",
            "Enter an item (apple, bread, milk, egg) or type 'pay' to finish: milk\n",
            "Added milk, running total: $14.50\n",
            "Enter an item (apple, bread, milk, egg) or type 'pay' to finish: pay\n",
            "\n",
            "Checkout summary:\n",
            "Subtotal: $14.50\n",
            "Tax (8%): $1.16\n",
            "Final total: $15.66\n"
          ]
        }
      ]
    }
  ]
}